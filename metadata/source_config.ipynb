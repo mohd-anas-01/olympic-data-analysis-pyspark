{
 "cells": [
  {
   "cell_type": "code",
   "execution_count": 0,
   "metadata": {
    "application/vnd.databricks.v1+cell": {
     "cellMetadata": {
      "byteLimit": 2048000,
      "rowLimit": 10000
     },
     "inputWidgets": {},
     "nuid": "1848e215-7134-452a-9ade-58718bd486da",
     "showTitle": false,
     "title": ""
    }
   },
   "outputs": [],
   "source": [
    "import yaml"
   ]
  },
  {
   "cell_type": "code",
   "execution_count": 0,
   "metadata": {
    "application/vnd.databricks.v1+cell": {
     "cellMetadata": {
      "byteLimit": 2048000,
      "rowLimit": 10000
     },
     "inputWidgets": {},
     "nuid": "9d59ac39-3d03-4295-af93-abfd503d3ecd",
     "showTitle": false,
     "title": ""
    }
   },
   "outputs": [],
   "source": [
    "metadata_yaml = \"\"\"\n",
    "datasets:\n",
    "  - format: \"csv\"\n",
    "    file_name: \"athlete_dimension\"\n",
    "    location: \"/Volumes/test/data/input/athlete_dimension.csv\"\n",
    "    delimiter: \",\"\n",
    "  - format: \"csv\"\n",
    "    file_name: \"event_dimension\"\n",
    "    location: \"/Volumes/test/data/input/event_dimension.csv\"\n",
    "    delimiter: \",\"\n",
    "  - format: \"csv\"\n",
    "    file_name: \"country_dimension\"\n",
    "    location: \"/Volumes/test/data/input/country_dimension.csv\"\n",
    "    delimiter: \",\"\n",
    "  - format: \"csv\"\n",
    "    file_name: \"sport_dimension\"\n",
    "    location: \"/Volumes/test/data/input/sport_dimension.csv\"\n",
    "    delimiter: \",\"\n",
    "  - format: \"csv\"\n",
    "    file_name: \"venue_dimension\"\n",
    "    location: \"/Volumes/test/data/input/venue_dimension.csv\"\n",
    "    delimiter: \",\"\n",
    "  - format: \"json\"\n",
    "    file_name: \"attendance_fact\"\n",
    "    location: \"/Volumes/test/data/input/attendance_fact.json\"\n",
    "    multiline: \"true\"\n",
    "  - format: \"json\"\n",
    "    file_name: \"athlete_performance_fact\"\n",
    "    location: \"/Volumes/test/data/input/athlete_performance_fact.json\"\n",
    "    multiline: \"true\"\n",
    "  - format: \"json\"\n",
    "    file_name: \"medal_fact\"\n",
    "    location: \"/Volumes/test/data/input/medal_fact.json\"\n",
    "    multiline: \"true\"\n",
    "\"\"\""
   ]
  },
  {
   "cell_type": "code",
   "execution_count": 0,
   "metadata": {
    "application/vnd.databricks.v1+cell": {
     "cellMetadata": {
      "byteLimit": 2048000,
      "rowLimit": 10000
     },
     "inputWidgets": {},
     "nuid": "c398d453-0246-4572-82f0-07ac1ac0d508",
     "showTitle": false,
     "title": ""
    }
   },
   "outputs": [],
   "source": [
    "metadata = yaml.safe_load(metadata_yaml)\n",
    "\n",
    "dbutils.notebook.exit(metadata)"
   ]
  }
 ],
 "metadata": {
  "application/vnd.databricks.v1+notebook": {
   "dashboards": [],
   "environmentMetadata": null,
   "language": "python",
   "notebookMetadata": {
    "pythonIndentUnit": 4
   },
   "notebookName": "source_config",
   "widgets": {}
  }
 },
 "nbformat": 4,
 "nbformat_minor": 0
}
