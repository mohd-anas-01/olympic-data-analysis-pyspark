{
 "cells": [
  {
   "cell_type": "code",
   "execution_count": null,
   "metadata": {
    "application/vnd.databricks.v1+cell": {
     "cellMetadata": {
      "byteLimit": 2048000,
      "rowLimit": 10000
     },
     "inputWidgets": {},
     "nuid": "2be7738b-57df-49dc-a1c0-990c03d6fc5f",
     "showTitle": false,
     "title": ""
    }
   },
   "outputs": [],
   "source": [
    "class DataReader:\n",
    "    def __init__(self, format, file_name, location, delimiter=\",\", multiline=\"true\"):\n",
    "        self.format = format\n",
    "        self.file_name = file_name\n",
    "        self.location = location\n",
    "        self.delimiter = delimiter\n",
    "        self.multiline = multiline\n",
    "\n",
    "    def read_data(self):\n",
    "        if self.format == \"csv\":\n",
    "            df = spark.read.option(\"header\", \"true\").option(\"inferSchema\", \"true\").option(\"delimiter\", self.delimiter).csv(self.location)\n",
    "        elif self.format == \"json\":\n",
    "            df = spark.read.option(\"inferSchema\", \"true\").option(\"multiline\", self.multiline).json(self.location)\n",
    "        elif self.format == \"parquet\":\n",
    "            df = spark.read.parquet(self.location)\n",
    "        else:\n",
    "            raise ValueError(f\"Unsupported format: {self.format}\")\n",
    "        return df\n",
    "\n",
    "    def create_global_temp_view(self):\n",
    "        df = self.read_data()\n",
    "        df.createOrReplaceGlobalTempView(self.file_name)\n",
    "        print(f\"Global Temporary view '{self.file_name}' created successfully.\")"
   ]
  },
  {
   "cell_type": "code",
   "execution_count": null,
   "metadata": {
    "application/vnd.databricks.v1+cell": {
     "cellMetadata": {
      "byteLimit": 2048000,
      "rowLimit": 10000
     },
     "inputWidgets": {},
     "nuid": "d132015a-6d71-4334-b9c8-b77089871d6a",
     "showTitle": false,
     "title": ""
    }
   },
   "outputs": [],
   "source": [
    "# Create widgets for input parameters\n",
    "dbutils.widgets.text(\"format\", \"\")\n",
    "dbutils.widgets.text(\"file_name\", \"\")\n",
    "dbutils.widgets.text(\"location\", \"\")\n",
    "dbutils.widgets.text(\"delimiter\", \",\")\n",
    "dbutils.widgets.text(\"multiline\", \"true\")"
   ]
  },
  {
   "cell_type": "code",
   "execution_count": null,
   "metadata": {
    "application/vnd.databricks.v1+cell": {
     "cellMetadata": {
      "byteLimit": 2048000,
      "rowLimit": 10000
     },
     "inputWidgets": {},
     "nuid": "f6734893-2656-4c35-8e5e-b529a9825b54",
     "showTitle": false,
     "title": ""
    }
   },
   "outputs": [
    {
     "name": "stdout",
     "output_type": "stream",
     "text": [
      "Format: , File_Name: , Location: , Delimiter: ,\n"
     ]
    }
   ],
   "source": [
    "# Retrieve widget values\n",
    "format = dbutils.widgets.get(\"format\")\n",
    "file_name = dbutils.widgets.get(\"file_name\")\n",
    "location = dbutils.widgets.get(\"location\")\n",
    "delimiter = dbutils.widgets.get(\"delimiter\")\n",
    "multiline = dbutils.widgets.get(\"multiline\")\n",
    "print(f\"Format: {format}, File_Name: {file_name}, Location: {location}, Delimiter: {delimiter}\")"
   ]
  },
  {
   "cell_type": "code",
   "execution_count": null,
   "metadata": {
    "application/vnd.databricks.v1+cell": {
     "cellMetadata": {
      "byteLimit": 2048000,
      "rowLimit": 10000
     },
     "inputWidgets": {},
     "nuid": "081abcca-9694-422d-84e5-b3881dd416d6",
     "showTitle": false,
     "title": ""
    }
   },
   "outputs": [],
   "source": [
    "\n",
    "# Initialize the DataReader class with the widget values\n",
    "reader = DataReader(format = format, file_name = file_name, location = location, delimiter = delimiter, multiline = multiline)\n",
    "\n",
    "# Create global temporary view\n",
    "reader.create_global_temp_view()"
   ]
  }
 ],
 "metadata": {
  "application/vnd.databricks.v1+notebook": {
   "dashboards": [],
   "environmentMetadata": null,
   "language": "python",
   "notebookMetadata": {
    "pythonIndentUnit": 4
   },
   "notebookName": "read_data",
   "widgets": {
    "delimiter": {
     "currentValue": ",",
     "nuid": "81a992c2-eb9c-4a62-b15e-e0fb8cc8b479",
     "typedWidgetInfo": null,
     "widgetInfo": {
      "defaultValue": ",",
      "label": null,
      "name": "delimiter",
      "options": {
       "autoCreated": null,
       "validationRegex": null,
       "widgetType": "text"
      },
      "widgetType": "text"
     }
    },
    "file_name": {
     "currentValue": "",
     "nuid": "71316e8f-e776-420a-b14e-6eec2e513c19",
     "typedWidgetInfo": null,
     "widgetInfo": {
      "defaultValue": "",
      "label": null,
      "name": "file_name",
      "options": {
       "autoCreated": null,
       "validationRegex": null,
       "widgetType": "text"
      },
      "widgetType": "text"
     }
    },
    "format": {
     "currentValue": "",
     "nuid": "bb9ebe22-8f8c-4e5c-bf46-658103702d80",
     "typedWidgetInfo": null,
     "widgetInfo": {
      "defaultValue": "",
      "label": null,
      "name": "format",
      "options": {
       "autoCreated": null,
       "validationRegex": null,
       "widgetType": "text"
      },
      "widgetType": "text"
     }
    },
    "location": {
     "currentValue": "",
     "nuid": "ddcb5fa4-0def-4ce2-9c74-eae317f6731a",
     "typedWidgetInfo": null,
     "widgetInfo": {
      "defaultValue": "",
      "label": null,
      "name": "location",
      "options": {
       "autoCreated": null,
       "validationRegex": null,
       "widgetType": "text"
      },
      "widgetType": "text"
     }
    }
   }
  },
  "language_info": {
   "name": "python"
  }
 },
 "nbformat": 4,
 "nbformat_minor": 0
}
