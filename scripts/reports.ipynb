{
 "cells": [
  {
   "cell_type": "markdown",
   "metadata": {
    "application/vnd.databricks.v1+cell": {
     "cellMetadata": {},
     "inputWidgets": {},
     "nuid": "8c6a7a68-01da-4a25-b02f-0e173902a512",
     "showTitle": false,
     "title": ""
    }
   },
   "source": [
    "## Multiple Year Performance By Country"
   ]
  },
  {
   "cell_type": "code",
   "execution_count": null,
   "metadata": {
    "application/vnd.databricks.v1+cell": {
     "cellMetadata": {
      "byteLimit": 2048000,
      "rowLimit": 10000
     },
     "inputWidgets": {},
     "nuid": "92d2d891-a6e7-4f05-9ca9-c13b700d5517",
     "showTitle": false,
     "title": ""
    }
   },
   "outputs": [],
   "source": [
    "multi_year_performance_by_country_df = spark.sql(\"\"\"WITH CountryYearlyMedals AS (\n",
    "    SELECT\n",
    "        c.CountryName,\n",
    "        YEAR(e.Date) AS Year,\n",
    "        COUNT(*) AS TotalMedals\n",
    "    FROM\n",
    "        global_temp.medal_fact m\n",
    "    JOIN\n",
    "        global_temp.athlete_dimension a ON m.AthleteID = a.AthleteID\n",
    "    JOIN\n",
    "        global_temp.event_dimension e ON m.EventID = e.EventID\n",
    "    JOIN\n",
    "        global_temp.country_dimension c ON a.CountryID = c.CountryID\n",
    "    GROUP BY\n",
    "        c.CountryName, YEAR(e.Date)\n",
    "),\n",
    "CountryYearlyMedalsLag AS (\n",
    "    SELECT\n",
    "        CountryName,\n",
    "        Year,\n",
    "        TotalMedals,\n",
    "        LAG(TotalMedals, 1) OVER (PARTITION BY CountryName ORDER BY Year) AS PreviousYearMedals\n",
    "    FROM\n",
    "        CountryYearlyMedals\n",
    ")\n",
    "SELECT\n",
    "    CountryName,\n",
    "    Year,\n",
    "    TotalMedals,\n",
    "    PreviousYearMedals,\n",
    "    (TotalMedals - PreviousYearMedals) AS YearOverYearChange\n",
    "FROM\n",
    "    CountryYearlyMedalsLag\n",
    "ORDER BY\n",
    "    CountryName, Year\"\"\")\n",
    "multi_year_performance_by_country_df.display()"
   ]
  },
  {
   "cell_type": "markdown",
   "metadata": {
    "application/vnd.databricks.v1+cell": {
     "cellMetadata": {},
     "inputWidgets": {},
     "nuid": "6176161f-d5f0-48b6-aadf-18b0d3c12f3c",
     "showTitle": false,
     "title": ""
    }
   },
   "source": [
    "## Country Performance"
   ]
  },
  {
   "cell_type": "code",
   "execution_count": null,
   "metadata": {
    "application/vnd.databricks.v1+cell": {
     "cellMetadata": {
      "byteLimit": 2048000,
      "rowLimit": 10000
     },
     "inputWidgets": {},
     "nuid": "34e5d0cf-447e-4a77-a623-c6c7a56d57fb",
     "showTitle": false,
     "title": ""
    }
   },
   "outputs": [],
   "source": [
    "country_performance_df = spark.sql(\"\"\"WITH CountrySportPerformance AS (\n",
    "    SELECT\n",
    "        c.CountryName,\n",
    "        s.SportName,\n",
    "        COUNT(m.MedalFactID) AS TotalMedals,\n",
    "        RANK() OVER (PARTITION BY s.SportName ORDER BY COUNT(m.MedalFactID) DESC) AS SportRank\n",
    "    FROM\n",
    "        global_temp.medal_fact m\n",
    "    JOIN\n",
    "        global_temp.athlete_dimension a ON m.AthleteID = a.AthleteID\n",
    "    JOIN\n",
    "        global_temp.event_dimension e ON m.EventID = e.EventID\n",
    "    JOIN\n",
    "        global_temp.sport_dimension s ON e.SportID = s.SportID\n",
    "    JOIN\n",
    "        global_temp.country_dimension c ON a.CountryID = c.CountryID\n",
    "    GROUP BY\n",
    "        c.CountryName, s.SportName\n",
    ")\n",
    "SELECT\n",
    "    CountryName,\n",
    "    SportName,\n",
    "    TotalMedals,\n",
    "    SportRank\n",
    "FROM\n",
    "    CountrySportPerformance\n",
    "ORDER BY\n",
    "    SportName, SportRank;\n",
    "\"\"\")\n",
    "\n",
    "country_performance_df.display()"
   ]
  },
  {
   "cell_type": "markdown",
   "metadata": {
    "application/vnd.databricks.v1+cell": {
     "cellMetadata": {},
     "inputWidgets": {},
     "nuid": "3c5c34c5-9dff-4d66-8a11-085945a35b38",
     "showTitle": false,
     "title": ""
    }
   },
   "source": [
    "## Athlete Career"
   ]
  },
  {
   "cell_type": "code",
   "execution_count": null,
   "metadata": {
    "application/vnd.databricks.v1+cell": {
     "cellMetadata": {
      "byteLimit": 2048000,
      "rowLimit": 10000
     },
     "inputWidgets": {},
     "nuid": "dd6ed3bb-0dbd-488f-8655-fead84cc31ae",
     "showTitle": false,
     "title": ""
    }
   },
   "outputs": [],
   "source": [
    "athlete_career_df = spark.sql(\"\"\"WITH AthleteCareer AS (\n",
    "    SELECT\n",
    "        a.Name AS AthleteName,\n",
    "        c.CountryName AS CountryName,\n",
    "        MIN(YEAR(p.Date)) AS FirstYear,\n",
    "        MAX(YEAR(p.Date)) AS LastYear,\n",
    "        COUNT(DISTINCT YEAR(p.Date)) AS ActiveYears\n",
    "    FROM\n",
    "        global_temp.athlete_performance_fact p\n",
    "    JOIN\n",
    "        global_temp.athlete_dimension a ON p.AthleteID = a.AthleteID\n",
    "    JOIN\n",
    "        global_temp.country_dimension c ON a.CountryID = c.CountryID\n",
    "    GROUP BY\n",
    "        a.Name, c.CountryName\n",
    ")\n",
    "SELECT\n",
    "    AthleteName,\n",
    "    CountryName,\n",
    "    FirstYear,\n",
    "    LastYear,\n",
    "    ActiveYears\n",
    "FROM\n",
    "    AthleteCareer\n",
    "ORDER BY\n",
    "    ActiveYears DESC;\n",
    "\"\"\")\n",
    "athlete_career_df.display()"
   ]
  },
  {
   "cell_type": "markdown",
   "metadata": {
    "application/vnd.databricks.v1+cell": {
     "cellMetadata": {},
     "inputWidgets": {},
     "nuid": "b90af87d-b987-45ef-b030-34904105c665",
     "showTitle": false,
     "title": ""
    }
   },
   "source": [
    "## Venue Utilization"
   ]
  },
  {
   "cell_type": "code",
   "execution_count": null,
   "metadata": {
    "application/vnd.databricks.v1+cell": {
     "cellMetadata": {
      "byteLimit": 2048000,
      "rowLimit": 10000
     },
     "inputWidgets": {},
     "nuid": "2ec9339c-3ac9-4202-9c64-0dda113f56b3",
     "showTitle": false,
     "title": ""
    }
   },
   "outputs": [],
   "source": [
    "venue_utilization_df = spark.sql(\"\"\"SELECT\n",
    "    v.VenueName,\n",
    "    YEAR(e.Date) AS Year,\n",
    "    ROUND(AVG(a.Attendance / v.Capacity) * 100, 2) AS AvgUtilizationPercentage\n",
    "FROM\n",
    "    global_temp.event_dimension e\n",
    "JOIN\n",
    "    global_temp.venue_dimension v ON e.VenueID = v.VenueID\n",
    "JOIN\n",
    "    global_temp.attendance_fact a ON e.EventID = a.EventID\n",
    "GROUP BY\n",
    "    v.VenueName, YEAR(e.Date)\n",
    "ORDER BY\n",
    "    v.VenueName, Year;\n",
    "\"\"\")\n",
    "venue_utilization_df.display()"
   ]
  },
  {
   "cell_type": "code",
   "execution_count": null,
   "metadata": {
    "application/vnd.databricks.v1+cell": {
     "cellMetadata": {
      "byteLimit": 2048000,
      "rowLimit": 10000
     },
     "inputWidgets": {},
     "nuid": "8d1f7932-15c9-46fe-b08b-4192f764f5ca",
     "showTitle": false,
     "title": ""
    }
   },
   "outputs": [],
   "source": [
    "medal_fact_df = spark.sql(\"\"\"SELECT * FROM global_temp.medal_fact WHERE MedalType IN ('Gold', 'Silver', 'Bronze')\"\"\")\n",
    "medal_fact_df.createOrReplaceGlobalTempView(\"medal_fact\")"
   ]
  },
  {
   "cell_type": "markdown",
   "metadata": {
    "application/vnd.databricks.v1+cell": {
     "cellMetadata": {},
     "inputWidgets": {},
     "nuid": "7210c844-aaa4-4d04-9550-36586b0cefea",
     "showTitle": false,
     "title": ""
    }
   },
   "source": [
    "## Medals By Country"
   ]
  },
  {
   "cell_type": "code",
   "execution_count": null,
   "metadata": {
    "application/vnd.databricks.v1+cell": {
     "cellMetadata": {
      "byteLimit": 2048000,
      "rowLimit": 10000
     },
     "inputWidgets": {},
     "nuid": "0c8af247-25ad-4659-93a8-d2d434a51842",
     "showTitle": false,
     "title": ""
    }
   },
   "outputs": [],
   "source": [
    "gold_medal_by_continent_df = spark.sql(\"\"\"WITH MedalByContinent AS (\n",
    "    SELECT\n",
    "        c.Continent,\n",
    "        m.MedalType,\n",
    "        COUNT(*) AS MedalCount\n",
    "    FROM\n",
    "        global_temp.medal_fact m\n",
    "    JOIN\n",
    "        global_temp.athlete_dimension a ON m.AthleteID = a.AthleteID\n",
    "    JOIN\n",
    "        global_temp.country_dimension co ON a.CountryID = co.CountryID\n",
    "    JOIN\n",
    "        (SELECT\n",
    "            CountryID,\n",
    "            CASE\n",
    "                WHEN CountryName IN ('USA', 'Canada', 'Mexico') THEN 'North America'\n",
    "                WHEN CountryName IN ('Brazil', 'Argentina') THEN 'South America'\n",
    "                WHEN CountryName IN ('China', 'Japan', 'India') THEN 'Asia'\n",
    "                WHEN CountryName IN ('Australia') THEN 'Australia'\n",
    "                WHEN CountryName IN ('UK', 'Germany', 'France') THEN 'Europe'\n",
    "                ELSE 'Other'\n",
    "            END AS Continent\n",
    "        FROM\n",
    "            global_temp.country_dimension) c ON co.CountryID = c.CountryID\n",
    "    GROUP BY\n",
    "        c.Continent, m.MedalType\n",
    ")\n",
    "SELECT\n",
    "    Continent,\n",
    "    MedalType,\n",
    "    MedalCount\n",
    "FROM\n",
    "    MedalByContinent\n",
    "ORDER BY\n",
    "    Continent, MedalType;\n",
    "\"\"\")\n",
    "gold_medal_by_continent_df.display()"
   ]
  }
 ],
 "metadata": {
  "application/vnd.databricks.v1+notebook": {
   "dashboards": [],
   "environmentMetadata": null,
   "language": "python",
   "notebookMetadata": {
    "pythonIndentUnit": 4
   },
   "notebookName": "reports",
   "widgets": {}
  },
  "language_info": {
   "name": "python"
  }
 },
 "nbformat": 4,
 "nbformat_minor": 0
}
